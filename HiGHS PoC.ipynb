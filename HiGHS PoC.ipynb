{
 "cells": [
  {
   "cell_type": "code",
   "execution_count": 0,
   "metadata": {
    "application/vnd.databricks.v1+cell": {
     "cellMetadata": {
      "byteLimit": 2048000,
      "rowLimit": 10000
     },
     "inputWidgets": {},
     "nuid": "b331ae39-67ca-41b1-9412-ececffc6cb18",
     "showTitle": false,
     "tableResultSettingsMap": {},
     "title": ""
    }
   },
   "outputs": [],
   "source": [
    "!pip install highspy "
   ]
  },
  {
   "cell_type": "code",
   "execution_count": 0,
   "metadata": {
    "application/vnd.databricks.v1+cell": {
     "cellMetadata": {
      "byteLimit": 2048000,
      "rowLimit": 10000
     },
     "inputWidgets": {},
     "nuid": "c66e2a34-fa64-4027-9aa6-34a55f8aa6f1",
     "showTitle": false,
     "tableResultSettingsMap": {},
     "title": ""
    }
   },
   "outputs": [],
   "source": [
    "%restart_python"
   ]
  },
  {
   "cell_type": "code",
   "execution_count": 0,
   "metadata": {
    "application/vnd.databricks.v1+cell": {
     "cellMetadata": {
      "byteLimit": 2048000,
      "rowLimit": 10000
     },
     "inputWidgets": {},
     "nuid": "c49f97f6-f03d-40a2-ba82-2c36aaab651d",
     "showTitle": false,
     "tableResultSettingsMap": {},
     "title": ""
    }
   },
   "outputs": [],
   "source": [
    "import highspy\n",
    "\n",
    "from highspy import Highs\n",
    "model = Highs()\n",
    "print(f\"HiGHS version from model: {model.version()}\")"
   ]
  },
  {
   "cell_type": "code",
   "execution_count": 0,
   "metadata": {
    "application/vnd.databricks.v1+cell": {
     "cellMetadata": {
      "byteLimit": 2048000,
      "rowLimit": 10000
     },
     "inputWidgets": {},
     "nuid": "a123d354-1bff-4b89-ac14-86cc2908f0d3",
     "showTitle": false,
     "tableResultSettingsMap": {},
     "title": ""
    }
   },
   "outputs": [],
   "source": [
    "import numpy as np\n",
    "\n",
    "# Define the supply chain edges\n",
    "edges = [\n",
    "    {\"from\": \"Supplier\", \"to\": \"Factory1\", \"capacity\": 100},\n",
    "    {\"from\": \"Supplier\", \"to\": \"Factory2\", \"capacity\": 100},\n",
    "    {\"from\": \"Factory1\", \"to\": \"Warehouse\", \"capacity\": 80},\n",
    "    {\"from\": \"Factory2\", \"to\": \"Warehouse\", \"capacity\": 80},\n",
    "]\n",
    "\n",
    "nodes = [\"Supplier\", \"Factory1\", \"Factory2\", \"Warehouse\"]\n",
    "disabled_node = \"Factory2\"  # simulate removing this node\n",
    "\n",
    "# Filter out edges connected to the removed node\n",
    "active_edges = [e for e in edges if disabled_node not in (e[\"from\"], e[\"to\"])]\n",
    "\n",
    "print(\"Disabled node:\", disabled_node)\n",
    "print(\"Active edges after removal:\")\n",
    "for e in active_edges:\n",
    "    print(f\"{e['from']} → {e['to']}, capacity: {e['capacity']}\")\n",
    "\n"
   ]
  },
  {
   "cell_type": "code",
   "execution_count": 0,
   "metadata": {
    "application/vnd.databricks.v1+cell": {
     "cellMetadata": {
      "byteLimit": 2048000,
      "rowLimit": 10000
     },
     "inputWidgets": {},
     "nuid": "faec7dee-6859-426d-8918-a2dd29c29c79",
     "showTitle": false,
     "tableResultSettingsMap": {},
     "title": ""
    }
   },
   "outputs": [],
   "source": [
    "\n",
    "\n",
    "# Flow balance (supply/demand) - adjusted for feasibility\n",
    "balance = {node: 0 for node in nodes}\n",
    "balance[\"Supplier\"] = 80  \n",
    "balance[\"Warehouse\"] = -80\n",
    "\n",
    "# Objective and variable bounds\n",
    "num_vars = len(active_edges)\n",
    "costs = np.array([1.0] * num_vars, dtype=np.double)\n",
    "lower_bounds = np.zeros(num_vars, dtype=np.double)\n",
    "upper_bounds = np.array([e[\"capacity\"] for e in active_edges], dtype=np.double)\n",
    "\n",
    "# Build constraint matrix for network flow\n",
    "constraint_nodes = [n for n in nodes if n != disabled_node]\n",
    "num_constraints = len(constraint_nodes)\n",
    "\n",
    "# Initialize the model\n",
    "model = Highs()\n",
    "\n",
    "# Add variables with bounds only\n",
    "for i in range(num_vars):\n",
    "    model.addVar(lower_bounds[i], upper_bounds[i])\n",
    "    \n",
    "# Set the objective coefficients separately\n",
    "for i in range(num_vars):\n",
    "    model.changeColCost(i, costs[i])\n",
    "\n",
    "# Build and add constraints\n",
    "for i, node in enumerate(constraint_nodes):\n",
    "    # Create a constraint for each node's flow balance\n",
    "    constraint_coeffs = []\n",
    "    constraint_indices = []\n",
    "    \n",
    "    for j, edge in enumerate(active_edges):\n",
    "        if edge[\"from\"] == node:\n",
    "            constraint_coeffs.append(1.0)  # Outflow is positive\n",
    "            constraint_indices.append(j)\n",
    "        elif edge[\"to\"] == node:\n",
    "            constraint_coeffs.append(-1.0)  # Inflow is negative\n",
    "            constraint_indices.append(j)\n",
    "    \n",
    "    # Add the constraint: flow balance equals node's supply/demand\n",
    "    # Convert lists to numpy arrays with correct dtypes\n",
    "    indices_array = np.array(constraint_indices, dtype=np.int32)\n",
    "    coeffs_array = np.array(constraint_coeffs, dtype=np.double)\n",
    "    model.addRow(float(balance[node]), float(balance[node]), len(indices_array), indices_array, coeffs_array)\n",
    "\n",
    "# Run the optimization\n",
    "model.run()\n",
    "\n",
    "# Get solution status\n",
    "status = model.getModelStatus()\n",
    "print(f\"Solution status: {status}\")\n",
    "\n",
    "# Output results\n",
    "if status == 7:  # Optimal solution found\n",
    "    col_values = []\n",
    "    for i in range(num_vars):\n",
    "        col_values.append(model.getSolution().col_value[i])\n",
    "    \n",
    "    print(\"\\n✅ Optimization result:\")\n",
    "    print(f\"Total flow: {sum(col_values)}\")\n",
    "    for val, e in zip(col_values, active_edges):\n",
    "        print(f\"{e['from']} → {e['to']}: {val} units\")\n",
    "else:\n",
    "    print(\"No optimal solution found\")"
   ]
  }
 ],
 "metadata": {
  "application/vnd.databricks.v1+notebook": {
   "computePreferences": null,
   "dashboards": [],
   "environmentMetadata": {
    "base_environment": "",
    "environment_version": "2"
   },
   "inputWidgetPreferences": null,
   "language": "python",
   "notebookMetadata": {
    "pythonIndentUnit": 2
   },
   "notebookName": "HiGHS PoC",
   "widgets": {}
  },
  "language_info": {
   "name": "python"
  }
 },
 "nbformat": 4,
 "nbformat_minor": 0
}
